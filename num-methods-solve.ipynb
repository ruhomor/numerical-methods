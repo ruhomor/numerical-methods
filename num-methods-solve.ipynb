{
 "cells": [
  {
   "cell_type": "markdown",
   "id": "7d15ae6c",
   "metadata": {},
   "source": [
    "(Решаем уравнение) x ^ 4 - 5 x ^ 2 - 2 x + 2\n",
    "Коэффициенты написаны в убывающем порядке\n",
    "http://kontromat.ru/?page_id=5052"
   ]
  },
  {
   "cell_type": "code",
   "execution_count": 17,
   "id": "8533e0bc",
   "metadata": {},
   "outputs": [],
   "source": [
    "graphics_toolkit(\"gnuplot\")"
   ]
  },
  {
   "cell_type": "code",
   "execution_count": 1,
   "id": "5cf23482",
   "metadata": {},
   "outputs": [
    {
     "name": "stdout",
     "output_type": "stream",
     "text": [
      "posinf = [](0x0)\n",
      "neginf = [](0x0)\n"
     ]
    }
   ],
   "source": [
    "posinf = []\n",
    "neginf = []"
   ]
  },
  {
   "cell_type": "code",
   "execution_count": 2,
   "id": "160cc23a",
   "metadata": {},
   "outputs": [
    {
     "name": "stdout",
     "output_type": "stream",
     "text": [
      "f0 =\r\n",
      "\r\n",
      "   1   0  -5  -2   2\r\n",
      "\r\n"
     ]
    }
   ],
   "source": [
    "f0 = [1, 0, -5, -2, 2]"
   ]
  },
  {
   "cell_type": "code",
   "execution_count": 34,
   "id": "a8061e2e",
   "metadata": {},
   "outputs": [
    {
     "name": "stdout",
     "output_type": "stream",
     "text": [
      "x =\r\n",
      "\r\n",
      " Columns 1 through 8:\r\n",
      "\r\n",
      "   -2.0000   -1.9000   -1.8000   -1.7000   -1.6000   -1.5000   -1.4000   -1.3000\r\n",
      "\r\n",
      " Columns 9 through 11:\r\n",
      "\r\n",
      "   -1.2000   -1.1000   -1.0000\r\n",
      "\r\n"
     ]
    }
   ],
   "source": [
    "x=-2:.1:-1"
   ]
  },
  {
   "cell_type": "code",
   "execution_count": 38,
   "id": "3308fe53",
   "metadata": {},
   "outputs": [
    {
     "data": {
      "image/png": "[encoded data removed]",
      "text/plain": [
       "<IPython.core.display.Image object>"
      ]
     },
     "metadata": {},
     "output_type": "display_data"
    }
   ],
   "source": [
    "plot(x, polyval(f0,x))\n",
    "grid on"
   ]
  },
  {
   "cell_type": "code",
   "execution_count": 8,
   "id": "7554abe6",
   "metadata": {},
   "outputs": [
    {
     "name": "stdout",
     "output_type": "stream",
     "text": [
      "f1 =\r\n",
      "\r\n",
      "    4    0  -10   -2\r\n",
      "\r\n"
     ]
    }
   ],
   "source": [
    "f1 = polyder (f0)"
   ]
  },
  {
   "cell_type": "markdown",
   "id": "29700543",
   "metadata": {},
   "source": [
    "# Локализация корней Штурм\n",
    "f(x) - исходный полином\n",
    "f1(x) = f'(x)\n",
    "fk-1(x) = fk(x)qk(x) - fk+1(x)\n"
   ]
  },
  {
   "cell_type": "code",
   "execution_count": 9,
   "id": "eea9345a",
   "metadata": {},
   "outputs": [
    {
     "name": "stdout",
     "output_type": "stream",
     "text": [
      "product =\r\n",
      "\r\n",
      "   0.2500        0\r\n",
      "\r\n",
      "remainder =\r\n",
      "\r\n",
      "        0        0  -2.5000  -1.5000   2.0000\r\n",
      "\r\n"
     ]
    }
   ],
   "source": [
    "[product, remainder] = deconv(f0, f1)"
   ]
  },
  {
   "cell_type": "code",
   "execution_count": 10,
   "id": "1e63a390",
   "metadata": {},
   "outputs": [
    {
     "name": "stdout",
     "output_type": "stream",
     "text": [
      "remainder =\r\n",
      "\r\n",
      "  -2.5000  -1.5000   2.0000\r\n",
      "\r\n"
     ]
    }
   ],
   "source": [
    "remainder = remainder(find (remainder, 1, \"first\"):length (remainder)) #удаление ведущих нулей"
   ]
  },
  {
   "cell_type": "code",
   "execution_count": 11,
   "id": "daac8eae",
   "metadata": {},
   "outputs": [
    {
     "name": "stdout",
     "output_type": "stream",
     "text": [
      "f0 =\n",
      "\n",
      "    4    0  -10   -2\n",
      "\n",
      "f1 =\n",
      "\n",
      "   2.5000   1.5000  -2.0000\n",
      "\n"
     ]
    }
   ],
   "source": [
    "f0 = f1\n",
    "f1 = -remainder"
   ]
  },
  {
   "cell_type": "code",
   "execution_count": 12,
   "id": "bcab9536",
   "metadata": {},
   "outputs": [
    {
     "name": "stdout",
     "output_type": "stream",
     "text": [
      "product =\r\n",
      "\r\n",
      "   1.6000  -0.9600\r\n",
      "\r\n",
      "remainder =\r\n",
      "\r\n",
      "        0        0  -5.3600  -3.9200\r\n",
      "\r\n"
     ]
    }
   ],
   "source": [
    "[product, remainder] = deconv (f0, f1)"
   ]
  },
  {
   "cell_type": "code",
   "execution_count": null,
   "id": "2943dfbb",
   "metadata": {},
   "outputs": [],
   "source": []
  },
  {
   "cell_type": "code",
   "execution_count": null,
   "id": "ce3932d4",
   "metadata": {},
   "outputs": [],
   "source": []
  }
 ],
 "metadata": {
  "kernelspec": {
   "display_name": "Octave",
   "language": "octave",
   "name": "octave"
  },
  "language_info": {
   "file_extension": ".m",
   "help_links": [
    {
     "text": "GNU Octave",
     "url": "https://www.gnu.org/software/octave/support.html"
    },
    {
     "text": "Octave Kernel",
     "url": "https://github.com/Calysto/octave_kernel"
    },
    {
     "text": "MetaKernel Magics",
     "url": "https://metakernel.readthedocs.io/en/latest/source/README.html"
    }
   ],
   "mimetype": "text/x-octave",
   "name": "octave",
   "version": "6.3.0"
  }
 },
 "nbformat": 4,
 "nbformat_minor": 5
}
