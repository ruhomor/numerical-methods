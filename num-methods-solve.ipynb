{
 "cells": [
  {
   "cell_type": "markdown",
   "id": "7d15ae6c",
   "metadata": {},
   "source": [
    "(Решаем уравнение) x ^ 4 - 5 x ^ 2 - 2 x + 2\n",
    "Коэффициенты написаны в убывающем порядке\n",
    "http://kontromat.ru/?page_id=5052"
   ]
  },
  {
   "cell_type": "code",
   "execution_count": null,
   "id": "5cf23482",
   "metadata": {},
   "outputs": [],
   "source": [
    "posinf = []\n",
    "neginf = []"
   ]
  },
  {
   "cell_type": "code",
   "execution_count": 43,
   "id": "160cc23a",
   "metadata": {},
   "outputs": [
    {
     "name": "stdout",
     "output_type": "stream",
     "text": [
      "f0 =\r\n",
      "\r\n",
      "   1   0  -5  -2   2\r\n",
      "\r\n"
     ]
    }
   ],
   "source": [
    "f0 = [1, 0, -5, -2, 2]"
   ]
  },
  {
   "cell_type": "code",
   "execution_count": 44,
   "id": "7554abe6",
   "metadata": {},
   "outputs": [
    {
     "name": "stdout",
     "output_type": "stream",
     "text": [
      "f1 =\r\n",
      "\r\n",
      "    4    0  -10   -2\r\n",
      "\r\n"
     ]
    }
   ],
   "source": [
    "f1 = polyder (uravnenie)"
   ]
  },
  {
   "cell_type": "markdown",
   "id": "29700543",
   "metadata": {},
   "source": [
    "# Локализация корней Штурм\n",
    "f(x) - исходный полином\n",
    "f1(x) = f'(x)\n",
    "fk-1(x) = fk(x)qk(x) - fk+1(x)\n"
   ]
  },
  {
   "cell_type": "code",
   "execution_count": 45,
   "id": "eea9345a",
   "metadata": {},
   "outputs": [
    {
     "name": "stdout",
     "output_type": "stream",
     "text": [
      "product =\r\n",
      "\r\n",
      "   0.2500        0\r\n",
      "\r\n",
      "remainder =\r\n",
      "\r\n",
      "        0        0  -2.5000  -1.5000   2.0000\r\n",
      "\r\n"
     ]
    }
   ],
   "source": [
    "[product, remainder] = deconv (f0, f1)"
   ]
  },
  {
   "cell_type": "code",
   "execution_count": 46,
   "id": "1e63a390",
   "metadata": {},
   "outputs": [
    {
     "name": "stdout",
     "output_type": "stream",
     "text": [
      "remainder =\r\n",
      "\r\n",
      "  -2.5000  -1.5000   2.0000\r\n",
      "\r\n"
     ]
    }
   ],
   "source": [
    "remainder = remainder(find (remainder, 1, \"first\"):length (remainder)) #удаление ведущих нулей"
   ]
  },
  {
   "cell_type": "code",
   "execution_count": 47,
   "id": "daac8eae",
   "metadata": {},
   "outputs": [
    {
     "name": "stdout",
     "output_type": "stream",
     "text": [
      "f0 =\n",
      "\n",
      "    4    0  -10   -2\n",
      "\n",
      "f1 =\n",
      "\n",
      "   2.5000   1.5000  -2.0000\n",
      "\n"
     ]
    }
   ],
   "source": [
    "f0 = f1\n",
    "f1 = -remainder"
   ]
  },
  {
   "cell_type": "code",
   "execution_count": 48,
   "id": "bcab9536",
   "metadata": {},
   "outputs": [
    {
     "name": "stdout",
     "output_type": "stream",
     "text": [
      "product =\r\n",
      "\r\n",
      "   1.6000  -0.9600\r\n",
      "\r\n",
      "remainder =\r\n",
      "\r\n",
      "        0        0  -5.3600  -3.9200\r\n",
      "\r\n"
     ]
    }
   ],
   "source": [
    "[product, remainder] = deconv (f0, f1)"
   ]
  },
  {
   "cell_type": "code",
   "execution_count": null,
   "id": "2943dfbb",
   "metadata": {},
   "outputs": [],
   "source": []
  }
 ],
 "metadata": {
  "kernelspec": {
   "display_name": "Octave",
   "language": "octave",
   "name": "octave"
  },
  "language_info": {
   "file_extension": ".m",
   "help_links": [
    {
     "text": "GNU Octave",
     "url": "https://www.gnu.org/software/octave/support.html"
    },
    {
     "text": "Octave Kernel",
     "url": "https://github.com/Calysto/octave_kernel"
    },
    {
     "text": "MetaKernel Magics",
     "url": "https://metakernel.readthedocs.io/en/latest/source/README.html"
    }
   ],
   "mimetype": "text/x-octave",
   "name": "octave",
   "version": "6.3.0"
  }
 },
 "nbformat": 4,
 "nbformat_minor": 5
}
